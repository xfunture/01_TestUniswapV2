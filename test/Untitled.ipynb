{
 "cells": [
  {
   "cell_type": "code",
   "execution_count": 1,
   "id": "4f9f93dc-8730-4fcb-abda-d14af6f220ea",
   "metadata": {},
   "outputs": [],
   "source": [
    "min_tick = -887272\n",
    "max_tick = -min_tick"
   ]
  },
  {
   "cell_type": "code",
   "execution_count": 4,
   "id": "92c348f7-c0d9-45ae-b974-8514aae3d448",
   "metadata": {},
   "outputs": [
    {
     "data": {
      "text/plain": [
       "-887272.0"
      ]
     },
     "execution_count": 4,
     "metadata": {},
     "output_type": "execute_result"
    }
   ],
   "source": [
    "tickSpacing = 10\n",
    "(min_tick/10) * tickSpacing"
   ]
  },
  {
   "cell_type": "code",
   "execution_count": 5,
   "id": "7446f87e-c14b-4b57-a40a-a99e2bf0b19f",
   "metadata": {},
   "outputs": [
    {
     "data": {
      "text/plain": [
       "177454.4"
      ]
     },
     "execution_count": 5,
     "metadata": {},
     "output_type": "execute_result"
    }
   ],
   "source": [
    "(max_tick - min_tick)/tickSpacing"
   ]
  },
  {
   "cell_type": "markdown",
   "id": "b0d0ce58",
   "metadata": {},
   "source": [
    "### 如何通过tick计算price"
   ]
  },
  {
   "cell_type": "code",
   "execution_count": 2,
   "id": "9dec7e9f-82f5-456e-b60e-c0669b6d7cb5",
   "metadata": {},
   "outputs": [
    {
     "name": "stdout",
     "output_type": "stream",
     "text": [
      "1.9243134505388956e-09\n",
      "1924.3134505388955\n"
     ]
    }
   ],
   "source": [
    "tick = -200697\n",
    "p = 1.0001 ** tick\n",
    "print(p)\n",
    "decimal_0 = 1e18\n",
    "decimals_1 = 1e6\n",
    "p = p * decimal_0 / decimals_1\n",
    "print(p)"
   ]
  },
  {
   "cell_type": "code",
   "execution_count": 6,
   "id": "089224bf-f083-4d03-8ae0-042638791427",
   "metadata": {},
   "outputs": [
    {
     "name": "stdout",
     "output_type": "stream",
     "text": [
      "3.5290860641238784e-09\n",
      "3529.0860641238783\n"
     ]
    }
   ],
   "source": [
    "tick = -194632\n",
    "p = 1.0001 ** tick\n",
    "print(p)\n",
    "decimal_0 = 1e18\n",
    "decimals_1 = 1e6\n",
    "p = p * decimal_0 / decimals_1\n",
    "print(p)"
   ]
  },
  {
   "cell_type": "code",
   "execution_count": null,
   "id": "1fd316f5-ccad-4e38-b72d-eb6db5efc266",
   "metadata": {},
   "outputs": [],
   "source": []
  },
  {
   "cell_type": "markdown",
   "id": "6a2120b5-2b42-4059-9b1a-1ddeb5298c8f",
   "metadata": {},
   "source": [
    "### 如何通过sqrtPriceX96计算ETH 的价格"
   ]
  },
  {
   "cell_type": "code",
   "execution_count": 10,
   "id": "e864de5f-cdd8-4071-baa4-0a5a95890441",
   "metadata": {},
   "outputs": [
    {
     "name": "stdout",
     "output_type": "stream",
     "text": [
      "1.8889727296834466e-09\n",
      "1888.9727296834467\n"
     ]
    }
   ],
   "source": [
    "# 我们从一个usdc/WETH pool 中获取sqrtPriceX96 \n",
    "sqrt_price_x96 = 3443439269043970780644209\n",
    "q96 = 2**96\n",
    "p = (sqrt_price_x96/q96)**2 \n",
    "print(p)\n",
    "decimal_0 = 1e18 # ETH\n",
    "decimal_1 = 1e6 # USDC\n",
    "print(p * decimal_0/decimal_1)"
   ]
  },
  {
   "cell_type": "code",
   "execution_count": null,
   "id": "05866f67",
   "metadata": {},
   "outputs": [],
   "source": []
  },
  {
   "cell_type": "code",
   "execution_count": 13,
   "id": "f7b446f0",
   "metadata": {},
   "outputs": [
    {
     "name": "stdout",
     "output_type": "stream",
     "text": [
      "283385900.41319513\n",
      "0.0002833859004131951\n"
     ]
    }
   ],
   "source": [
    "# 我们从一个usdc/WETH pool 中获取sqrtPriceX96 \n",
    "sqrt_price_x96 = 1333732404670361296676592751864722\n",
    "q96 = 2**96\n",
    "p = (sqrt_price_x96/q96)**2 \n",
    "print(p)\n",
    "decimal_0 = 1e18 # ETH\n",
    "decimal_1 = 1e6 # USDC\n",
    "print(p * decimal_1 / decimal_0)"
   ]
  },
  {
   "cell_type": "code",
   "execution_count": 12,
   "id": "0b8cc70d",
   "metadata": {},
   "outputs": [
    {
     "data": {
      "text/plain": [
       "3528.7570713360647"
      ]
     },
     "execution_count": 12,
     "metadata": {},
     "output_type": "execute_result"
    }
   ],
   "source": [
    "1/0.0002833859004131951"
   ]
  },
  {
   "cell_type": "markdown",
   "id": "ac2f56f6-88a5-4f27-bae0-d6103954398e",
   "metadata": {},
   "source": [
    "### 如何计算tick"
   ]
  },
  {
   "cell_type": "code",
   "execution_count": 31,
   "id": "f270156b-5dd8-4189-9964-659a57af68da",
   "metadata": {},
   "outputs": [
    {
     "data": {
      "text/plain": [
       "-200920.392088956"
      ]
     },
     "execution_count": 31,
     "metadata": {},
     "output_type": "execute_result"
    }
   ],
   "source": [
    "import math\n",
    "sqrt_price_x96 = 3436899527919986964832931\n",
    "q96 = 2**96\n",
    "#tick=-200921\n",
    "tick = 2*math.log(sqrt_price_x96/q96) / math.log(1.0001)\n",
    "tick"
   ]
  },
  {
   "cell_type": "code",
   "execution_count": 34,
   "id": "f3e134e5-5174-4309-a5ac-82a7b8ec839b",
   "metadata": {},
   "outputs": [
    {
     "name": "stdout",
     "output_type": "stream",
     "text": [
      "285823085.63132423\n",
      "2.8582308563132426e+20\n"
     ]
    }
   ],
   "source": [
    "sqrt_price_x96 =1339455332151827088491445795062029\n",
    "q96 = 2**96\n",
    "p = (sqrt_price_x96/q96)**2 \n",
    "print(p)\n",
    "decimal_0 = 1e18 # ETH\n",
    "decimals_1 = 1e6 # USDC\n",
    "print(p * decimal_0/decimals_1)"
   ]
  },
  {
   "cell_type": "code",
   "execution_count": null,
   "id": "bab53017-63d3-4d52-9d96-0c3fee9ee7fb",
   "metadata": {},
   "outputs": [],
   "source": []
  },
  {
   "cell_type": "code",
   "execution_count": 35,
   "id": "57b823d6-7d6d-42ce-a9b9-d759615c381d",
   "metadata": {},
   "outputs": [
    {
     "data": {
      "text/plain": [
       "0.3"
      ]
     },
     "execution_count": 35,
     "metadata": {},
     "output_type": "execute_result"
    }
   ],
   "source": [
    "3000 / 10000"
   ]
  },
  {
   "cell_type": "code",
   "execution_count": 38,
   "id": "047ce992-e7cf-48ce-9cc3-dcba80d29669",
   "metadata": {},
   "outputs": [
    {
     "data": {
      "text/plain": [
       "0.03"
      ]
     },
     "execution_count": 38,
     "metadata": {},
     "output_type": "execute_result"
    }
   ],
   "source": [
    "3000 / 100000"
   ]
  },
  {
   "cell_type": "code",
   "execution_count": 37,
   "id": "d8e6c6f8-97fc-4abf-931d-11cedc31b446",
   "metadata": {},
   "outputs": [
    {
     "data": {
      "text/plain": [
       "0.003"
      ]
     },
     "execution_count": 37,
     "metadata": {},
     "output_type": "execute_result"
    }
   ],
   "source": [
    "0.3/100"
   ]
  },
  {
   "cell_type": "code",
   "execution_count": null,
   "id": "66a6b352-eb2c-493f-9360-50a0b23e65fc",
   "metadata": {},
   "outputs": [],
   "source": []
  }
 ],
 "metadata": {
  "kernelspec": {
   "display_name": "Python 3",
   "language": "python",
   "name": "python3"
  },
  "language_info": {
   "codemirror_mode": {
    "name": "ipython",
    "version": 3
   },
   "file_extension": ".py",
   "mimetype": "text/x-python",
   "name": "python",
   "nbconvert_exporter": "python",
   "pygments_lexer": "ipython3",
   "version": "3.7.10"
  }
 },
 "nbformat": 4,
 "nbformat_minor": 5
}
